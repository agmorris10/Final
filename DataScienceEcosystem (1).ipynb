{
 "cells": [
  {
   "cell_type": "markdown",
   "id": "9bd43116-a218-4672-9c5d-eb1c515d101a",
   "metadata": {},
   "source": [
    "# Data Science Tools and Ecosystem"
   ]
  },
  {
   "cell_type": "markdown",
   "id": "a0f8d7f8-fd30-4d4c-adb8-312acf7654bf",
   "metadata": {},
   "source": [
    "In this notebook, Data Science Tools and Ecosystem are summarized."
   ]
  },
  {
   "cell_type": "markdown",
   "id": "96afa43a-7150-4f81-a34e-fc1b2400ee8d",
   "metadata": {},
   "source": [
    "**Objectives:**\n",
    "- List popular languages for Data Science\n",
    "- List commonly used libraries in data science\n",
    "- List some development environment open source tools used in data science"
   ]
  },
  {
   "cell_type": "markdown",
   "id": "beaf1fff-7cd5-4ed4-9eb8-a7b028e45d71",
   "metadata": {},
   "source": [
    "Some of the popular languages that Data Scientists use are:\n",
    "1. Python\n",
    "2. SQL\n",
    "3. R"
   ]
  },
  {
   "cell_type": "markdown",
   "id": "a2abb10f-cb7a-43e0-b90e-d7836cd6cd77",
   "metadata": {},
   "source": [
    "Some of the commonly used libraries used by Data Scientists include:\n",
    "1. NumPy\n",
    "2. Keras\n",
    "3. Pandas"
   ]
  },
  {
   "cell_type": "markdown",
   "id": "d7c0f4c3-b405-47bf-983b-e9bd514fe1b3",
   "metadata": {},
   "source": [
    "| Data Science Tools |\n",
    "| -------- |\n",
    "| RStudio |\n",
    "| Apache Spark |\n",
    "| TensorFlow |"
   ]
  },
  {
   "cell_type": "markdown",
   "id": "c92c9be1-a43e-455d-bc87-5f4952d19b8f",
   "metadata": {},
   "source": [
    "### Below are a few examples of evaluating arithmetic expressions in Python"
   ]
  },
  {
   "cell_type": "code",
   "execution_count": 11,
   "id": "4bde6aeb-97ac-4b2c-bc8c-30459a114e03",
   "metadata": {},
   "outputs": [
    {
     "data": {
      "text/plain": [
       "17"
      ]
     },
     "execution_count": 11,
     "metadata": {},
     "output_type": "execute_result"
    }
   ],
   "source": [
    "# This a simple arithmetic expression to mutiply then add integers\n",
    "(3*4)+5"
   ]
  },
  {
   "cell_type": "code",
   "execution_count": 10,
   "id": "7a62f436-5363-4f42-b22e-8dcf7fd538a9",
   "metadata": {},
   "outputs": [
    {
     "data": {
      "text/plain": [
       "3.3333333333333335"
      ]
     },
     "execution_count": 10,
     "metadata": {},
     "output_type": "execute_result"
    }
   ],
   "source": [
    "# This will convert 200 minutes to hours by diving by 60\n",
    "200/60"
   ]
  },
  {
   "cell_type": "markdown",
   "id": "6f8ea678-dd85-4a5a-a077-367c3a1c870e",
   "metadata": {},
   "source": [
    "## Author\n",
    "Amanda Morris"
   ]
  },
  {
   "cell_type": "code",
   "execution_count": null,
   "id": "44bb2f5f-f495-416e-b24d-bd843e24de5a",
   "metadata": {},
   "outputs": [],
   "source": []
  }
 ],
 "metadata": {
  "kernelspec": {
   "display_name": "anaconda-panel-2023.05-py310",
   "language": "python",
   "name": "conda-env-anaconda-panel-2023.05-py310-py"
  },
  "language_info": {
   "codemirror_mode": {
    "name": "ipython",
    "version": 3
   },
   "file_extension": ".py",
   "mimetype": "text/x-python",
   "name": "python",
   "nbconvert_exporter": "python",
   "pygments_lexer": "ipython3",
   "version": "3.11.5"
  }
 },
 "nbformat": 4,
 "nbformat_minor": 5
}
